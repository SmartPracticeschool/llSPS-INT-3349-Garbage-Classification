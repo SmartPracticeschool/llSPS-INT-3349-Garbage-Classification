{
 "cells": [
  {
   "cell_type": "code",
   "execution_count": 1,
   "metadata": {},
   "outputs": [
    {
     "name": "stderr",
     "output_type": "stream",
     "text": [
      "Using TensorFlow backend.\n"
     ]
    }
   ],
   "source": [
    "#importing the libraries\n",
    "from keras.models import Sequential\n",
    "from keras.layers import Dense\n",
    "from keras.layers import Convolution2D\n",
    "from keras.layers import MaxPooling2D\n",
    "from keras.layers import Flatten"
   ]
  },
  {
   "cell_type": "code",
   "execution_count": 2,
   "metadata": {},
   "outputs": [],
   "source": [
    "#initialize the model\n",
    "model = Sequential()"
   ]
  },
  {
   "cell_type": "code",
   "execution_count": 3,
   "metadata": {},
   "outputs": [],
   "source": [
    "model.add(Convolution2D(32,(3,3),input_shape = (64,64,3),activation = 'relu'))"
   ]
  },
  {
   "cell_type": "code",
   "execution_count": 4,
   "metadata": {},
   "outputs": [],
   "source": [
    "model.add(MaxPooling2D(pool_size = (2,2)))"
   ]
  },
  {
   "cell_type": "code",
   "execution_count": 5,
   "metadata": {},
   "outputs": [],
   "source": [
    "model.add(Flatten())"
   ]
  },
  {
   "cell_type": "code",
   "execution_count": 6,
   "metadata": {},
   "outputs": [
    {
     "name": "stderr",
     "output_type": "stream",
     "text": [
      "C:\\Users\\HARSH\\.conda\\envs\\tensorflow\\lib\\site-packages\\ipykernel_launcher.py:1: UserWarning: Update your `Dense` call to the Keras 2 API: `Dense(activation=\"relu\", units=128, kernel_initializer=\"uniform\")`\n",
      "  \"\"\"Entry point for launching an IPython kernel.\n"
     ]
    }
   ],
   "source": [
    "model.add(Dense(output_dim = 128 ,init = 'uniform',activation = 'relu'))"
   ]
  },
  {
   "cell_type": "code",
   "execution_count": 7,
   "metadata": {},
   "outputs": [
    {
     "name": "stderr",
     "output_type": "stream",
     "text": [
      "C:\\Users\\HARSH\\.conda\\envs\\tensorflow\\lib\\site-packages\\ipykernel_launcher.py:1: UserWarning: Update your `Dense` call to the Keras 2 API: `Dense(activation=\"softmax\", units=6, kernel_initializer=\"uniform\")`\n",
      "  \"\"\"Entry point for launching an IPython kernel.\n"
     ]
    }
   ],
   "source": [
    "model.add(Dense(output_dim = 6,activation = 'softmax',init ='uniform'))"
   ]
  },
  {
   "cell_type": "code",
   "execution_count": 8,
   "metadata": {},
   "outputs": [],
   "source": [
    "from keras.preprocessing.image import ImageDataGenerator\n",
    "train_datagen = ImageDataGenerator(rescale = 1./255,shear_range = 0.2,zoom_range = 0.2,horizontal_flip = True)\n",
    "test_datagen =ImageDataGenerator(rescale = 1)\n"
   ]
  },
  {
   "cell_type": "code",
   "execution_count": 9,
   "metadata": {},
   "outputs": [
    {
     "name": "stdout",
     "output_type": "stream",
     "text": [
      "Found 2527 images belonging to 6 classes.\n",
      "Found 504 images belonging to 6 classes.\n"
     ]
    }
   ],
   "source": [
    "x_train = train_datagen.flow_from_directory(r'D:\\MATERIAL\\S T U D Y\\Garbage classification\\dataset\\training_set',target_size = (64,64),batch_size = 32, class_mode = 'categorical')\n",
    "x_test =  test_datagen.flow_from_directory(r'D:\\MATERIAL\\S T U D Y\\Garbage classification\\dataset\\test_set',target_size = (64,64),batch_size = 32, class_mode = 'categorical')"
   ]
  },
  {
   "cell_type": "code",
   "execution_count": 10,
   "metadata": {},
   "outputs": [
    {
     "name": "stdout",
     "output_type": "stream",
     "text": [
      "{'cardboard': 0, 'glass': 1, 'metal': 2, 'paper': 3, 'plastic': 4, 'trash': 5}\n"
     ]
    }
   ],
   "source": [
    "print(x_train.class_indices)"
   ]
  },
  {
   "cell_type": "code",
   "execution_count": 11,
   "metadata": {},
   "outputs": [],
   "source": [
    "model.compile(loss = 'categorical_crossentropy',optimizer = \"adam\",metrics = [\"accuracy\"])"
   ]
  },
  {
   "cell_type": "code",
   "execution_count": 12,
   "metadata": {},
   "outputs": [
    {
     "name": "stdout",
     "output_type": "stream",
     "text": [
      "Epoch 1/75\n",
      "79/79 [==============================] - 60s 762ms/step - loss: 1.5944 - accuracy: 0.3554 - val_loss: 84.1594 - val_accuracy: 0.4901\n",
      "Epoch 2/75\n",
      "79/79 [==============================] - 16s 200ms/step - loss: 1.4034 - accuracy: 0.4385 - val_loss: 120.8879 - val_accuracy: 0.5397\n",
      "Epoch 3/75\n",
      "79/79 [==============================] - 17s 211ms/step - loss: 1.2899 - accuracy: 0.4970 - val_loss: 111.9836 - val_accuracy: 0.5635\n",
      "Epoch 4/75\n",
      "79/79 [==============================] - 17s 212ms/step - loss: 1.2119 - accuracy: 0.5358 - val_loss: 225.0262 - val_accuracy: 0.5536\n",
      "Epoch 5/75\n",
      "79/79 [==============================] - 17s 213ms/step - loss: 1.1468 - accuracy: 0.5683 - val_loss: 307.0923 - val_accuracy: 0.3869\n",
      "Epoch 6/75\n",
      "79/79 [==============================] - 17s 212ms/step - loss: 1.1162 - accuracy: 0.5789 - val_loss: 102.7137 - val_accuracy: 0.5754\n",
      "Epoch 7/75\n",
      "79/79 [==============================] - 17s 212ms/step - loss: 1.0472 - accuracy: 0.5979 - val_loss: 190.8292 - val_accuracy: 0.5476\n",
      "Epoch 8/75\n",
      "79/79 [==============================] - 17s 211ms/step - loss: 1.0097 - accuracy: 0.6185 - val_loss: 271.1310 - val_accuracy: 0.5417\n",
      "Epoch 9/75\n",
      "79/79 [==============================] - 17s 211ms/step - loss: 0.9921 - accuracy: 0.6252 - val_loss: 340.5594 - val_accuracy: 0.5278\n",
      "Epoch 10/75\n",
      "79/79 [==============================] - 17s 212ms/step - loss: 0.9499 - accuracy: 0.6423 - val_loss: 197.6010 - val_accuracy: 0.4821\n",
      "Epoch 11/75\n",
      "79/79 [==============================] - 17s 212ms/step - loss: 0.9084 - accuracy: 0.6593 - val_loss: 239.0389 - val_accuracy: 0.5000\n",
      "Epoch 12/75\n",
      "79/79 [==============================] - 17s 214ms/step - loss: 0.8761 - accuracy: 0.6747 - val_loss: 346.1062 - val_accuracy: 0.4524\n",
      "Epoch 13/75\n",
      "79/79 [==============================] - 17s 218ms/step - loss: 0.8452 - accuracy: 0.6890 - val_loss: 530.3604 - val_accuracy: 0.3730\n",
      "Epoch 14/75\n",
      "79/79 [==============================] - 17s 219ms/step - loss: 0.8388 - accuracy: 0.6917 - val_loss: 338.0777 - val_accuracy: 0.4226\n",
      "Epoch 15/75\n",
      "79/79 [==============================] - 17s 213ms/step - loss: 0.8000 - accuracy: 0.7076 - val_loss: 583.6146 - val_accuracy: 0.4643\n",
      "Epoch 16/75\n",
      "79/79 [==============================] - 17s 212ms/step - loss: 0.7885 - accuracy: 0.7072 - val_loss: 369.6632 - val_accuracy: 0.5179\n",
      "Epoch 17/75\n",
      "79/79 [==============================] - 17s 212ms/step - loss: 0.7717 - accuracy: 0.7202 - val_loss: 377.1790 - val_accuracy: 0.5357\n",
      "Epoch 18/75\n",
      "79/79 [==============================] - 17s 213ms/step - loss: 0.7068 - accuracy: 0.7404 - val_loss: 502.9881 - val_accuracy: 0.4544\n",
      "Epoch 19/75\n",
      "79/79 [==============================] - 17s 213ms/step - loss: 0.7156 - accuracy: 0.7384 - val_loss: 695.3600 - val_accuracy: 0.4484\n",
      "Epoch 20/75\n",
      "79/79 [==============================] - 17s 212ms/step - loss: 0.6681 - accuracy: 0.7511 - val_loss: 310.7216 - val_accuracy: 0.4206\n",
      "Epoch 21/75\n",
      "79/79 [==============================] - 17s 211ms/step - loss: 0.6354 - accuracy: 0.7693 - val_loss: 383.3791 - val_accuracy: 0.4563\n",
      "Epoch 22/75\n",
      "79/79 [==============================] - 17s 213ms/step - loss: 0.6162 - accuracy: 0.7776 - val_loss: 569.7624 - val_accuracy: 0.4643\n",
      "Epoch 23/75\n",
      "79/79 [==============================] - 17s 212ms/step - loss: 0.5867 - accuracy: 0.7946 - val_loss: 517.9040 - val_accuracy: 0.4444\n",
      "Epoch 24/75\n",
      "79/79 [==============================] - 17s 213ms/step - loss: 0.5694 - accuracy: 0.7998 - val_loss: 427.7753 - val_accuracy: 0.4583\n",
      "Epoch 25/75\n",
      "79/79 [==============================] - 17s 211ms/step - loss: 0.5548 - accuracy: 0.7958 - val_loss: 343.4784 - val_accuracy: 0.4306\n",
      "Epoch 26/75\n",
      "79/79 [==============================] - 17s 212ms/step - loss: 0.5228 - accuracy: 0.8136 - val_loss: 317.2661 - val_accuracy: 0.4365\n",
      "Epoch 27/75\n",
      "79/79 [==============================] - 17s 212ms/step - loss: 0.5137 - accuracy: 0.8120 - val_loss: 842.7513 - val_accuracy: 0.4147\n",
      "Epoch 28/75\n",
      "79/79 [==============================] - 17s 217ms/step - loss: 0.5034 - accuracy: 0.8235 - val_loss: 647.2941 - val_accuracy: 0.4067\n",
      "Epoch 29/75\n",
      "79/79 [==============================] - 17s 216ms/step - loss: 0.4768 - accuracy: 0.8290 - val_loss: 899.5964 - val_accuracy: 0.3849\n",
      "Epoch 30/75\n",
      "79/79 [==============================] - 17s 213ms/step - loss: 0.4522 - accuracy: 0.8378 - val_loss: 872.0305 - val_accuracy: 0.4028\n",
      "Epoch 31/75\n",
      "79/79 [==============================] - 17s 213ms/step - loss: 0.4975 - accuracy: 0.8279 - val_loss: 779.1330 - val_accuracy: 0.4008\n",
      "Epoch 32/75\n",
      "79/79 [==============================] - 17s 213ms/step - loss: 0.4530 - accuracy: 0.8405 - val_loss: 684.8260 - val_accuracy: 0.4802\n",
      "Epoch 33/75\n",
      "79/79 [==============================] - 17s 213ms/step - loss: 0.4290 - accuracy: 0.8484 - val_loss: 503.5583 - val_accuracy: 0.4306\n",
      "Epoch 34/75\n",
      "79/79 [==============================] - 17s 214ms/step - loss: 0.4091 - accuracy: 0.8548 - val_loss: 1404.3740 - val_accuracy: 0.3790\n",
      "Epoch 35/75\n",
      "79/79 [==============================] - 17s 213ms/step - loss: 0.4064 - accuracy: 0.8579 - val_loss: 838.0947 - val_accuracy: 0.4008\n",
      "Epoch 36/75\n",
      "79/79 [==============================] - 17s 213ms/step - loss: 0.3745 - accuracy: 0.8678 - val_loss: 1007.9333 - val_accuracy: 0.4187\n",
      "Epoch 37/75\n",
      "79/79 [==============================] - 13s 167ms/step - loss: 0.3533 - accuracy: 0.8730 - val_loss: 373.7477 - val_accuracy: 0.4425\n",
      "Epoch 38/75\n",
      "79/79 [==============================] - 12s 152ms/step - loss: 0.3606 - accuracy: 0.8647 - val_loss: 860.7993 - val_accuracy: 0.4286\n",
      "Epoch 39/75\n",
      "79/79 [==============================] - 12s 153ms/step - loss: 0.3258 - accuracy: 0.8932 - val_loss: 1103.6097 - val_accuracy: 0.4405\n",
      "Epoch 40/75\n",
      "79/79 [==============================] - 14s 176ms/step - loss: 0.3241 - accuracy: 0.8904 - val_loss: 591.4211 - val_accuracy: 0.3988\n",
      "Epoch 41/75\n",
      "79/79 [==============================] - 12s 154ms/step - loss: 0.3324 - accuracy: 0.8833 - val_loss: 529.6873 - val_accuracy: 0.5516\n",
      "Epoch 42/75\n",
      "79/79 [==============================] - 12s 153ms/step - loss: 0.3092 - accuracy: 0.8943 - val_loss: 1345.7721 - val_accuracy: 0.3790\n",
      "Epoch 43/75\n",
      "79/79 [==============================] - 12s 156ms/step - loss: 0.2735 - accuracy: 0.9074 - val_loss: 601.9830 - val_accuracy: 0.4048\n",
      "Epoch 44/75\n",
      "79/79 [==============================] - 12s 157ms/step - loss: 0.3074 - accuracy: 0.8935 - val_loss: 612.1033 - val_accuracy: 0.5218\n",
      "Epoch 45/75\n",
      "79/79 [==============================] - 12s 157ms/step - loss: 0.2885 - accuracy: 0.8951 - val_loss: 315.1868 - val_accuracy: 0.5833\n",
      "Epoch 46/75\n",
      "79/79 [==============================] - 12s 157ms/step - loss: 0.2913 - accuracy: 0.8971 - val_loss: 656.5461 - val_accuracy: 0.4782\n",
      "Epoch 47/75\n",
      "79/79 [==============================] - 12s 158ms/step - loss: 0.2589 - accuracy: 0.9129 - val_loss: 1054.6332 - val_accuracy: 0.4683\n",
      "Epoch 48/75\n",
      "79/79 [==============================] - 12s 158ms/step - loss: 0.2481 - accuracy: 0.9165 - val_loss: 799.1082 - val_accuracy: 0.5040\n",
      "Epoch 49/75\n",
      "79/79 [==============================] - 13s 159ms/step - loss: 0.2412 - accuracy: 0.9173 - val_loss: 717.0009 - val_accuracy: 0.4107\n",
      "Epoch 50/75\n",
      "79/79 [==============================] - 13s 159ms/step - loss: 0.2392 - accuracy: 0.9213 - val_loss: 1013.8828 - val_accuracy: 0.4345\n",
      "Epoch 51/75\n",
      "79/79 [==============================] - 13s 160ms/step - loss: 0.2384 - accuracy: 0.9248 - val_loss: 1614.3145 - val_accuracy: 0.4266\n",
      "Epoch 52/75\n",
      "79/79 [==============================] - 13s 160ms/step - loss: 0.2131 - accuracy: 0.9228 - val_loss: 1126.4271 - val_accuracy: 0.4028\n",
      "Epoch 53/75\n",
      "79/79 [==============================] - 13s 160ms/step - loss: 0.2298 - accuracy: 0.9224 - val_loss: 1048.2621 - val_accuracy: 0.4266\n",
      "Epoch 54/75\n",
      "79/79 [==============================] - 13s 161ms/step - loss: 0.1843 - accuracy: 0.9410 - val_loss: 737.9285 - val_accuracy: 0.4325\n",
      "Epoch 55/75\n",
      "79/79 [==============================] - 16s 208ms/step - loss: 0.2201 - accuracy: 0.9256 - val_loss: 1891.4717 - val_accuracy: 0.3829\n",
      "Epoch 56/75\n",
      "79/79 [==============================] - 13s 160ms/step - loss: 0.1845 - accuracy: 0.9371 - val_loss: 1816.2755 - val_accuracy: 0.3750\n",
      "Epoch 57/75\n"
     ]
    },
    {
     "name": "stdout",
     "output_type": "stream",
     "text": [
      "79/79 [==============================] - 12s 158ms/step - loss: 0.1830 - accuracy: 0.9438 - val_loss: 747.5820 - val_accuracy: 0.4960\n",
      "Epoch 58/75\n",
      "79/79 [==============================] - 13s 159ms/step - loss: 0.1782 - accuracy: 0.9383 - val_loss: 1701.9117 - val_accuracy: 0.4167\n",
      "Epoch 59/75\n",
      "79/79 [==============================] - 13s 160ms/step - loss: 0.2074 - accuracy: 0.9304 - val_loss: 580.2903 - val_accuracy: 0.5575\n",
      "Epoch 60/75\n",
      "79/79 [==============================] - 13s 160ms/step - loss: 0.1719 - accuracy: 0.9458 - val_loss: 1220.3256 - val_accuracy: 0.4266\n",
      "Epoch 61/75\n",
      "79/79 [==============================] - 13s 160ms/step - loss: 0.1667 - accuracy: 0.9470 - val_loss: 1069.2887 - val_accuracy: 0.5079\n",
      "Epoch 62/75\n",
      "79/79 [==============================] - 13s 160ms/step - loss: 0.1500 - accuracy: 0.9505 - val_loss: 444.4452 - val_accuracy: 0.4861\n",
      "Epoch 63/75\n",
      "79/79 [==============================] - 13s 161ms/step - loss: 0.1679 - accuracy: 0.9474 - val_loss: 1522.4169 - val_accuracy: 0.4405\n",
      "Epoch 64/75\n",
      "79/79 [==============================] - 13s 160ms/step - loss: 0.1712 - accuracy: 0.9446 - val_loss: 902.5775 - val_accuracy: 0.4425\n",
      "Epoch 65/75\n",
      "79/79 [==============================] - 13s 160ms/step - loss: 0.1682 - accuracy: 0.9462 - val_loss: 1277.8286 - val_accuracy: 0.4325\n",
      "Epoch 66/75\n",
      "79/79 [==============================] - 13s 160ms/step - loss: 0.1432 - accuracy: 0.9541 - val_loss: 847.3454 - val_accuracy: 0.5278\n",
      "Epoch 67/75\n",
      "79/79 [==============================] - 13s 161ms/step - loss: 0.1619 - accuracy: 0.9454 - val_loss: 1354.6158 - val_accuracy: 0.4127\n",
      "Epoch 68/75\n",
      "79/79 [==============================] - 15s 187ms/step - loss: 0.1461 - accuracy: 0.9517 - val_loss: 948.0869 - val_accuracy: 0.4385\n",
      "Epoch 69/75\n",
      "79/79 [==============================] - 13s 160ms/step - loss: 0.1287 - accuracy: 0.9581 - val_loss: 1320.7894 - val_accuracy: 0.4345\n",
      "Epoch 70/75\n",
      "79/79 [==============================] - 13s 161ms/step - loss: 0.1427 - accuracy: 0.9533 - val_loss: 879.3311 - val_accuracy: 0.5000\n",
      "Epoch 71/75\n",
      "79/79 [==============================] - 13s 161ms/step - loss: 0.1408 - accuracy: 0.9505 - val_loss: 1299.3602 - val_accuracy: 0.4841\n",
      "Epoch 72/75\n",
      "79/79 [==============================] - 14s 181ms/step - loss: 0.1587 - accuracy: 0.9450 - val_loss: 1641.0035 - val_accuracy: 0.4028\n",
      "Epoch 73/75\n",
      "79/79 [==============================] - 14s 171ms/step - loss: 0.1347 - accuracy: 0.9490 - val_loss: 972.8406 - val_accuracy: 0.5040\n",
      "Epoch 74/75\n",
      "79/79 [==============================] - 13s 161ms/step - loss: 0.1340 - accuracy: 0.9557 - val_loss: 1313.6465 - val_accuracy: 0.4385\n",
      "Epoch 75/75\n",
      "79/79 [==============================] - 13s 161ms/step - loss: 0.1311 - accuracy: 0.9545 - val_loss: 1519.6412 - val_accuracy: 0.4683\n"
     ]
    },
    {
     "data": {
      "text/plain": [
       "<keras.callbacks.callbacks.History at 0x11dbf565bc8>"
      ]
     },
     "execution_count": 12,
     "metadata": {},
     "output_type": "execute_result"
    }
   ],
   "source": [
    "model.fit_generator(x_train, steps_per_epoch = 79,epochs = 75,validation_data = x_test,validation_steps = 16)"
   ]
  },
  {
   "cell_type": "code",
   "execution_count": 13,
   "metadata": {},
   "outputs": [],
   "source": [
    "model.save(\"garbage.h5\")"
   ]
  },
  {
   "cell_type": "code",
   "execution_count": null,
   "metadata": {},
   "outputs": [],
   "source": []
  }
 ],
 "metadata": {
  "kernelspec": {
   "display_name": "Python 3",
   "language": "python",
   "name": "python3"
  },
  "language_info": {
   "codemirror_mode": {
    "name": "ipython",
    "version": 3
   },
   "file_extension": ".py",
   "mimetype": "text/x-python",
   "name": "python",
   "nbconvert_exporter": "python",
   "pygments_lexer": "ipython3",
   "version": "3.7.7"
  }
 },
 "nbformat": 4,
 "nbformat_minor": 2
}
